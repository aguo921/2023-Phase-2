{
 "cells": [
  {
   "attachments": {},
   "cell_type": "markdown",
   "id": "ce060bc6",
   "metadata": {},
   "source": [
    "# MSA 2023 Phase 2 - Part 2"
   ]
  },
  {
   "cell_type": "code",
   "execution_count": 13,
   "id": "7d488f42",
   "metadata": {},
   "outputs": [],
   "source": [
    "from sklearn.model_selection import train_test_split\n",
    "from sklearn.linear_model import LogisticRegression, LinearRegression\n",
    "from sklearn.ensemble import RandomForestClassifier\n",
    "from sklearn.metrics import accuracy_score, confusion_matrix, mean_squared_error\n",
    "import numpy as np\n",
    "import pandas as pd\n",
    "import seaborn as sns\n",
    "import matplotlib.pyplot as plt\n",
    "%matplotlib inline"
   ]
  },
  {
   "cell_type": "markdown",
   "id": "a90c810d",
   "metadata": {},
   "source": [
    "# Classification Model"
   ]
  },
  {
   "attachments": {},
   "cell_type": "markdown",
   "id": "08c4bc0a",
   "metadata": {},
   "source": [
    "## 1. Load and split preprocessed data"
   ]
  },
  {
   "cell_type": "code",
   "execution_count": 14,
   "id": "82b64b4b",
   "metadata": {},
   "outputs": [
    {
     "data": {
      "text/html": [
       "<div>\n",
       "<style scoped>\n",
       "    .dataframe tbody tr th:only-of-type {\n",
       "        vertical-align: middle;\n",
       "    }\n",
       "\n",
       "    .dataframe tbody tr th {\n",
       "        vertical-align: top;\n",
       "    }\n",
       "\n",
       "    .dataframe thead th {\n",
       "        text-align: right;\n",
       "    }\n",
       "</style>\n",
       "<table border=\"1\" class=\"dataframe\">\n",
       "  <thead>\n",
       "    <tr style=\"text-align: right;\">\n",
       "      <th></th>\n",
       "      <th>Age</th>\n",
       "      <th>Family_Size</th>\n",
       "      <th>Segmentation</th>\n",
       "      <th>Graduated_Yes</th>\n",
       "      <th>Ever_Married_Yes</th>\n",
       "      <th>Spending_Score_Average</th>\n",
       "      <th>Spending_Score_High</th>\n",
       "      <th>Spending_Score_Low</th>\n",
       "      <th>Profession_Artist</th>\n",
       "      <th>Profession_Doctor</th>\n",
       "      <th>...</th>\n",
       "      <th>Profession_Healthcare</th>\n",
       "      <th>Profession_Homemaker</th>\n",
       "      <th>Profession_Lawyer</th>\n",
       "      <th>Profession_Marketing</th>\n",
       "      <th>Age_Segment_Adult</th>\n",
       "      <th>Age_Segment_Elderly</th>\n",
       "      <th>Age_Segment_Middle_Aged</th>\n",
       "      <th>Age_Adult</th>\n",
       "      <th>Age_Middle_Aged</th>\n",
       "      <th>Age_Elderly</th>\n",
       "    </tr>\n",
       "  </thead>\n",
       "  <tbody>\n",
       "    <tr>\n",
       "      <th>0</th>\n",
       "      <td>0.056338</td>\n",
       "      <td>0.375</td>\n",
       "      <td>D</td>\n",
       "      <td>0</td>\n",
       "      <td>0</td>\n",
       "      <td>0</td>\n",
       "      <td>0</td>\n",
       "      <td>1</td>\n",
       "      <td>0</td>\n",
       "      <td>0</td>\n",
       "      <td>...</td>\n",
       "      <td>1</td>\n",
       "      <td>0</td>\n",
       "      <td>0</td>\n",
       "      <td>0</td>\n",
       "      <td>1</td>\n",
       "      <td>0</td>\n",
       "      <td>0</td>\n",
       "      <td>0.056338</td>\n",
       "      <td>0.0</td>\n",
       "      <td>0.000000</td>\n",
       "    </tr>\n",
       "    <tr>\n",
       "      <th>1</th>\n",
       "      <td>0.281690</td>\n",
       "      <td>0.250</td>\n",
       "      <td>A</td>\n",
       "      <td>1</td>\n",
       "      <td>1</td>\n",
       "      <td>1</td>\n",
       "      <td>0</td>\n",
       "      <td>0</td>\n",
       "      <td>0</td>\n",
       "      <td>0</td>\n",
       "      <td>...</td>\n",
       "      <td>0</td>\n",
       "      <td>0</td>\n",
       "      <td>0</td>\n",
       "      <td>0</td>\n",
       "      <td>1</td>\n",
       "      <td>0</td>\n",
       "      <td>0</td>\n",
       "      <td>0.281690</td>\n",
       "      <td>0.0</td>\n",
       "      <td>0.000000</td>\n",
       "    </tr>\n",
       "    <tr>\n",
       "      <th>2</th>\n",
       "      <td>0.690141</td>\n",
       "      <td>0.000</td>\n",
       "      <td>B</td>\n",
       "      <td>1</td>\n",
       "      <td>1</td>\n",
       "      <td>0</td>\n",
       "      <td>0</td>\n",
       "      <td>1</td>\n",
       "      <td>0</td>\n",
       "      <td>0</td>\n",
       "      <td>...</td>\n",
       "      <td>0</td>\n",
       "      <td>0</td>\n",
       "      <td>0</td>\n",
       "      <td>0</td>\n",
       "      <td>0</td>\n",
       "      <td>1</td>\n",
       "      <td>0</td>\n",
       "      <td>0.000000</td>\n",
       "      <td>0.0</td>\n",
       "      <td>0.690141</td>\n",
       "    </tr>\n",
       "    <tr>\n",
       "      <th>3</th>\n",
       "      <td>0.690141</td>\n",
       "      <td>0.125</td>\n",
       "      <td>B</td>\n",
       "      <td>1</td>\n",
       "      <td>1</td>\n",
       "      <td>0</td>\n",
       "      <td>1</td>\n",
       "      <td>0</td>\n",
       "      <td>0</td>\n",
       "      <td>0</td>\n",
       "      <td>...</td>\n",
       "      <td>0</td>\n",
       "      <td>0</td>\n",
       "      <td>1</td>\n",
       "      <td>0</td>\n",
       "      <td>0</td>\n",
       "      <td>1</td>\n",
       "      <td>0</td>\n",
       "      <td>0.000000</td>\n",
       "      <td>0.0</td>\n",
       "      <td>0.690141</td>\n",
       "    </tr>\n",
       "    <tr>\n",
       "      <th>4</th>\n",
       "      <td>0.309859</td>\n",
       "      <td>0.625</td>\n",
       "      <td>A</td>\n",
       "      <td>1</td>\n",
       "      <td>1</td>\n",
       "      <td>0</td>\n",
       "      <td>1</td>\n",
       "      <td>0</td>\n",
       "      <td>0</td>\n",
       "      <td>0</td>\n",
       "      <td>...</td>\n",
       "      <td>0</td>\n",
       "      <td>0</td>\n",
       "      <td>0</td>\n",
       "      <td>0</td>\n",
       "      <td>1</td>\n",
       "      <td>0</td>\n",
       "      <td>0</td>\n",
       "      <td>0.309859</td>\n",
       "      <td>0.0</td>\n",
       "      <td>0.000000</td>\n",
       "    </tr>\n",
       "  </tbody>\n",
       "</table>\n",
       "<p>5 rows × 23 columns</p>\n",
       "</div>"
      ],
      "text/plain": [
       "        Age  Family_Size Segmentation  Graduated_Yes  Ever_Married_Yes  \\\n",
       "0  0.056338        0.375            D              0                 0   \n",
       "1  0.281690        0.250            A              1                 1   \n",
       "2  0.690141        0.000            B              1                 1   \n",
       "3  0.690141        0.125            B              1                 1   \n",
       "4  0.309859        0.625            A              1                 1   \n",
       "\n",
       "   Spending_Score_Average  Spending_Score_High  Spending_Score_Low  \\\n",
       "0                       0                    0                   1   \n",
       "1                       1                    0                   0   \n",
       "2                       0                    0                   1   \n",
       "3                       0                    1                   0   \n",
       "4                       0                    1                   0   \n",
       "\n",
       "   Profession_Artist  Profession_Doctor  ...  Profession_Healthcare  \\\n",
       "0                  0                  0  ...                      1   \n",
       "1                  0                  0  ...                      0   \n",
       "2                  0                  0  ...                      0   \n",
       "3                  0                  0  ...                      0   \n",
       "4                  0                  0  ...                      0   \n",
       "\n",
       "   Profession_Homemaker  Profession_Lawyer  Profession_Marketing  \\\n",
       "0                     0                  0                     0   \n",
       "1                     0                  0                     0   \n",
       "2                     0                  0                     0   \n",
       "3                     0                  1                     0   \n",
       "4                     0                  0                     0   \n",
       "\n",
       "   Age_Segment_Adult  Age_Segment_Elderly  Age_Segment_Middle_Aged  Age_Adult  \\\n",
       "0                  1                    0                        0   0.056338   \n",
       "1                  1                    0                        0   0.281690   \n",
       "2                  0                    1                        0   0.000000   \n",
       "3                  0                    1                        0   0.000000   \n",
       "4                  1                    0                        0   0.309859   \n",
       "\n",
       "   Age_Middle_Aged  Age_Elderly  \n",
       "0              0.0     0.000000  \n",
       "1              0.0     0.000000  \n",
       "2              0.0     0.690141  \n",
       "3              0.0     0.690141  \n",
       "4              0.0     0.000000  \n",
       "\n",
       "[5 rows x 23 columns]"
      ]
     },
     "execution_count": 14,
     "metadata": {},
     "output_type": "execute_result"
    }
   ],
   "source": [
    "# Load preprocessed data\n",
    "market_segmentation = pd.read_csv(\"../1. Analysis and Preprocessing/preprocessed_datasets/market_segmentation.csv\")\n",
    "market_segmentation.head()"
   ]
  },
  {
   "cell_type": "code",
   "execution_count": 15,
   "id": "d92b5a8e",
   "metadata": {},
   "outputs": [],
   "source": [
    "# Get the features of the dataset\n",
    "X = market_segmentation.drop(columns=[\"Segmentation\"])\n",
    "\n",
    "# Get the target of the dataset\n",
    "y = market_segmentation.Segmentation\n",
    "\n",
    "# Create an 70-30 train-test split on the dataset\n",
    "X_train, X_test, y_train, y_test = train_test_split(X, y, test_size=0.3, random_state=101)"
   ]
  },
  {
   "attachments": {},
   "cell_type": "markdown",
   "id": "c03221b0",
   "metadata": {},
   "source": [
    "## 2. Choose an algorithm"
   ]
  },
  {
   "cell_type": "code",
   "execution_count": 16,
   "id": "e560c3b5",
   "metadata": {},
   "outputs": [],
   "source": [
    "# Load an untuned logistic regression model\n",
    "lg_model = LogisticRegression()\n",
    "\n",
    "# Load an untuned random forest classifier model\n",
    "rf_model = RandomForestClassifier()"
   ]
  },
  {
   "attachments": {},
   "cell_type": "markdown",
   "id": "3e06351b",
   "metadata": {},
   "source": [
    "## 3. Train and test a model"
   ]
  },
  {
   "cell_type": "code",
   "execution_count": 17,
   "id": "619bb3d3",
   "metadata": {},
   "outputs": [
    {
     "name": "stderr",
     "output_type": "stream",
     "text": [
      "c:\\Users\\Angela (school)\\MSA 2023\\Phase 2\\2023-Phase-2\\venv\\lib\\site-packages\\sklearn\\linear_model\\_logistic.py:460: ConvergenceWarning: lbfgs failed to converge (status=1):\n",
      "STOP: TOTAL NO. of ITERATIONS REACHED LIMIT.\n",
      "\n",
      "Increase the number of iterations (max_iter) or scale the data as shown in:\n",
      "    https://scikit-learn.org/stable/modules/preprocessing.html\n",
      "Please also refer to the documentation for alternative solver options:\n",
      "    https://scikit-learn.org/stable/modules/linear_model.html#logistic-regression\n",
      "  n_iter_i = _check_optimize_result(\n"
     ]
    },
    {
     "data": {
      "text/plain": [
       "0.5176071277047094"
      ]
     },
     "execution_count": 17,
     "metadata": {},
     "output_type": "execute_result"
    }
   ],
   "source": [
    "# Train the logistic regression model using the training set\n",
    "lg_model.fit(X_train, y_train)\n",
    "\n",
    "# Get predictions using the features of the test set\n",
    "lg_predictions = lg_model.predict(X_test)\n",
    "\n",
    "# Test the model using predictions and the targets of the test set\n",
    "lg_accuracy = accuracy_score(y_test, lg_predictions)\n",
    "\n",
    "lg_accuracy"
   ]
  },
  {
   "cell_type": "code",
   "execution_count": 18,
   "id": "82390941",
   "metadata": {},
   "outputs": [
    {
     "data": {
      "text/plain": [
       "0.4700890963088672"
      ]
     },
     "execution_count": 18,
     "metadata": {},
     "output_type": "execute_result"
    }
   ],
   "source": [
    "# Train the random forest model using the training set\n",
    "rf_model.fit(X_train, y_train)\n",
    "\n",
    "# Get predictions using the features of the test set\n",
    "rf_predictions = rf_model.predict(X_test)\n",
    "\n",
    "# Test the model using predictions and the targets of the test set\n",
    "rf_accuracy = accuracy_score(y_test, rf_predictions)\n",
    "\n",
    "rf_accuracy"
   ]
  },
  {
   "attachments": {},
   "cell_type": "markdown",
   "id": "5cafcd88",
   "metadata": {},
   "source": [
    "## 4. Evaluate the model "
   ]
  },
  {
   "cell_type": "markdown",
   "id": "ddfdbc64",
   "metadata": {},
   "source": [
    "Please refer to [Evaluating Classification Models](https://github.com/NZMSA/2023-Phase-2/blob/main/data-science/0.%20Resources/docs/evaluating-classification-models.md)"
   ]
  },
  {
   "cell_type": "code",
   "execution_count": 19,
   "id": "55b0785c",
   "metadata": {},
   "outputs": [
    {
     "data": {
      "text/plain": [
       "array([[286,  84,  89, 105],\n",
       "       [160, 146, 184,  63],\n",
       "       [ 78, 102, 318,  82],\n",
       "       [140,  23,  27, 470]], dtype=int64)"
      ]
     },
     "execution_count": 19,
     "metadata": {},
     "output_type": "execute_result"
    }
   ],
   "source": [
    "# Evaluate the confusion matrix of the logistic regression model\n",
    "confusion_matrix(y_test, lg_predictions)"
   ]
  },
  {
   "cell_type": "code",
   "execution_count": 20,
   "id": "cca15588",
   "metadata": {},
   "outputs": [
    {
     "data": {
      "text/plain": [
       "array([[212, 132,  95, 125],\n",
       "       [125, 175, 168,  85],\n",
       "       [ 83, 128, 300,  69],\n",
       "       [134,  54,  51, 421]], dtype=int64)"
      ]
     },
     "execution_count": 20,
     "metadata": {},
     "output_type": "execute_result"
    }
   ],
   "source": [
    "# Evaluate the confusion matrix of the random forest model\n",
    "confusion_matrix(y_test, rf_predictions)"
   ]
  },
  {
   "attachments": {},
   "cell_type": "markdown",
   "id": "802b550a",
   "metadata": {},
   "source": [
    "## 5. Summary"
   ]
  },
  {
   "attachments": {},
   "cell_type": "markdown",
   "id": "0dda11f9",
   "metadata": {},
   "source": []
  },
  {
   "cell_type": "markdown",
   "id": "8249a320",
   "metadata": {},
   "source": [
    "# Regression Model"
   ]
  },
  {
   "cell_type": "markdown",
   "id": "617166b1",
   "metadata": {},
   "source": [
    "## 1. Load and split preprocessed data"
   ]
  },
  {
   "cell_type": "code",
   "execution_count": 21,
   "id": "a535e5ed",
   "metadata": {},
   "outputs": [
    {
     "data": {
      "text/html": [
       "<div>\n",
       "<style scoped>\n",
       "    .dataframe tbody tr th:only-of-type {\n",
       "        vertical-align: middle;\n",
       "    }\n",
       "\n",
       "    .dataframe tbody tr th {\n",
       "        vertical-align: top;\n",
       "    }\n",
       "\n",
       "    .dataframe thead th {\n",
       "        text-align: right;\n",
       "    }\n",
       "</style>\n",
       "<table border=\"1\" class=\"dataframe\">\n",
       "  <thead>\n",
       "    <tr style=\"text-align: right;\">\n",
       "      <th></th>\n",
       "      <th>WklyStudyHours</th>\n",
       "      <th>MathScore</th>\n",
       "      <th>ReadingScore</th>\n",
       "      <th>WritingScore</th>\n",
       "      <th>LunchType_standard</th>\n",
       "      <th>TestPrep_none</th>\n",
       "      <th>Gender_male</th>\n",
       "      <th>ParentEduc_associate's degree</th>\n",
       "      <th>ParentEduc_bachelor's degree</th>\n",
       "      <th>ParentEduc_high school</th>\n",
       "      <th>ParentEduc_master's degree</th>\n",
       "      <th>ParentEduc_some college</th>\n",
       "      <th>ParentEduc_some high school</th>\n",
       "      <th>EthnicGroup_group A</th>\n",
       "      <th>EthnicGroup_group B</th>\n",
       "      <th>EthnicGroup_group C</th>\n",
       "      <th>EthnicGroup_group D</th>\n",
       "      <th>EthnicGroup_group E</th>\n",
       "    </tr>\n",
       "  </thead>\n",
       "  <tbody>\n",
       "    <tr>\n",
       "      <th>0</th>\n",
       "      <td>0</td>\n",
       "      <td>71</td>\n",
       "      <td>71</td>\n",
       "      <td>74</td>\n",
       "      <td>1</td>\n",
       "      <td>1</td>\n",
       "      <td>0</td>\n",
       "      <td>0</td>\n",
       "      <td>1</td>\n",
       "      <td>0</td>\n",
       "      <td>0</td>\n",
       "      <td>0</td>\n",
       "      <td>0</td>\n",
       "      <td>0</td>\n",
       "      <td>0</td>\n",
       "      <td>0</td>\n",
       "      <td>0</td>\n",
       "      <td>0</td>\n",
       "    </tr>\n",
       "    <tr>\n",
       "      <th>1</th>\n",
       "      <td>0</td>\n",
       "      <td>87</td>\n",
       "      <td>93</td>\n",
       "      <td>91</td>\n",
       "      <td>1</td>\n",
       "      <td>1</td>\n",
       "      <td>0</td>\n",
       "      <td>0</td>\n",
       "      <td>0</td>\n",
       "      <td>0</td>\n",
       "      <td>1</td>\n",
       "      <td>0</td>\n",
       "      <td>0</td>\n",
       "      <td>0</td>\n",
       "      <td>1</td>\n",
       "      <td>0</td>\n",
       "      <td>0</td>\n",
       "      <td>0</td>\n",
       "    </tr>\n",
       "    <tr>\n",
       "      <th>2</th>\n",
       "      <td>1</td>\n",
       "      <td>45</td>\n",
       "      <td>56</td>\n",
       "      <td>42</td>\n",
       "      <td>0</td>\n",
       "      <td>1</td>\n",
       "      <td>1</td>\n",
       "      <td>1</td>\n",
       "      <td>0</td>\n",
       "      <td>0</td>\n",
       "      <td>0</td>\n",
       "      <td>0</td>\n",
       "      <td>0</td>\n",
       "      <td>1</td>\n",
       "      <td>0</td>\n",
       "      <td>0</td>\n",
       "      <td>0</td>\n",
       "      <td>0</td>\n",
       "    </tr>\n",
       "    <tr>\n",
       "      <th>3</th>\n",
       "      <td>1</td>\n",
       "      <td>76</td>\n",
       "      <td>78</td>\n",
       "      <td>75</td>\n",
       "      <td>1</td>\n",
       "      <td>1</td>\n",
       "      <td>1</td>\n",
       "      <td>0</td>\n",
       "      <td>0</td>\n",
       "      <td>0</td>\n",
       "      <td>0</td>\n",
       "      <td>1</td>\n",
       "      <td>0</td>\n",
       "      <td>0</td>\n",
       "      <td>0</td>\n",
       "      <td>1</td>\n",
       "      <td>0</td>\n",
       "      <td>0</td>\n",
       "    </tr>\n",
       "    <tr>\n",
       "      <th>4</th>\n",
       "      <td>1</td>\n",
       "      <td>73</td>\n",
       "      <td>84</td>\n",
       "      <td>79</td>\n",
       "      <td>1</td>\n",
       "      <td>1</td>\n",
       "      <td>0</td>\n",
       "      <td>1</td>\n",
       "      <td>0</td>\n",
       "      <td>0</td>\n",
       "      <td>0</td>\n",
       "      <td>0</td>\n",
       "      <td>0</td>\n",
       "      <td>0</td>\n",
       "      <td>1</td>\n",
       "      <td>0</td>\n",
       "      <td>0</td>\n",
       "      <td>0</td>\n",
       "    </tr>\n",
       "  </tbody>\n",
       "</table>\n",
       "</div>"
      ],
      "text/plain": [
       "   WklyStudyHours  MathScore  ReadingScore  WritingScore  LunchType_standard  \\\n",
       "0               0         71            71            74                   1   \n",
       "1               0         87            93            91                   1   \n",
       "2               1         45            56            42                   0   \n",
       "3               1         76            78            75                   1   \n",
       "4               1         73            84            79                   1   \n",
       "\n",
       "   TestPrep_none  Gender_male  ParentEduc_associate's degree  \\\n",
       "0              1            0                              0   \n",
       "1              1            0                              0   \n",
       "2              1            1                              1   \n",
       "3              1            1                              0   \n",
       "4              1            0                              1   \n",
       "\n",
       "   ParentEduc_bachelor's degree  ParentEduc_high school  \\\n",
       "0                             1                       0   \n",
       "1                             0                       0   \n",
       "2                             0                       0   \n",
       "3                             0                       0   \n",
       "4                             0                       0   \n",
       "\n",
       "   ParentEduc_master's degree  ParentEduc_some college  \\\n",
       "0                           0                        0   \n",
       "1                           1                        0   \n",
       "2                           0                        0   \n",
       "3                           0                        1   \n",
       "4                           0                        0   \n",
       "\n",
       "   ParentEduc_some high school  EthnicGroup_group A  EthnicGroup_group B  \\\n",
       "0                            0                    0                    0   \n",
       "1                            0                    0                    1   \n",
       "2                            0                    1                    0   \n",
       "3                            0                    0                    0   \n",
       "4                            0                    0                    1   \n",
       "\n",
       "   EthnicGroup_group C  EthnicGroup_group D  EthnicGroup_group E  \n",
       "0                    0                    0                    0  \n",
       "1                    0                    0                    0  \n",
       "2                    0                    0                    0  \n",
       "3                    1                    0                    0  \n",
       "4                    0                    0                    0  "
      ]
     },
     "execution_count": 21,
     "metadata": {},
     "output_type": "execute_result"
    }
   ],
   "source": [
    "# Load preprocessed data\n",
    "exam_scores = pd.read_csv(\"../1. Analysis and Preprocessing/preprocessed_datasets/exam_scores.csv\")\n",
    "exam_scores.head()"
   ]
  },
  {
   "cell_type": "code",
   "execution_count": 22,
   "id": "e07607cc",
   "metadata": {},
   "outputs": [],
   "source": [
    "# Get the features of the dataset\n",
    "X = exam_scores.drop(columns=[\"MathScore\", \"ReadingScore\", \"WritingScore\"])\n",
    "\n",
    "# Get the target of the dataset\n",
    "y = exam_scores.MathScore\n",
    "\n",
    "# Create an 70-30 train-test split on the dataset\n",
    "X_train, X_test, y_train, y_test = train_test_split(X, y, test_size=0.3, random_state=101)"
   ]
  },
  {
   "cell_type": "markdown",
   "id": "509fcd1d",
   "metadata": {},
   "source": [
    "## 2. Choose an algorithm"
   ]
  },
  {
   "cell_type": "code",
   "execution_count": 23,
   "id": "c120506d",
   "metadata": {},
   "outputs": [],
   "source": [
    "# Load an untuned linear regression model\n",
    "lr_model = LinearRegression()"
   ]
  },
  {
   "cell_type": "markdown",
   "id": "7ef78a67",
   "metadata": {},
   "source": [
    "## 3. Train and test a model"
   ]
  },
  {
   "cell_type": "code",
   "execution_count": 24,
   "id": "ae855792",
   "metadata": {},
   "outputs": [
    {
     "data": {
      "text/plain": [
       "168.76321727312086"
      ]
     },
     "execution_count": 24,
     "metadata": {},
     "output_type": "execute_result"
    }
   ],
   "source": [
    "# Train the linear regression model using the training set\n",
    "lr_model.fit(X_train, y_train)\n",
    "\n",
    "# Get predictions using the features of the test set\n",
    "lr_predictions = lr_model.predict(X_test)\n",
    "\n",
    "# Test the model using predictions and the targets of the test set\n",
    "lr_mse = mean_squared_error(y_test, lr_predictions)\n",
    "\n",
    "lr_mse"
   ]
  },
  {
   "cell_type": "markdown",
   "id": "f4f4770b",
   "metadata": {},
   "source": [
    "## 4. Evaluate the model"
   ]
  },
  {
   "cell_type": "markdown",
   "id": "07134dde",
   "metadata": {},
   "source": [
    "Please refer to [Evaluating Regression Models](https://github.com/NZMSA/2023-Phase-2/blob/main/data-science/0.%20Resources/docs/evaluating-regression-models.md)"
   ]
  },
  {
   "cell_type": "markdown",
   "id": "f56effd6",
   "metadata": {},
   "source": [
    "## 5. Summary"
   ]
  }
 ],
 "metadata": {
  "kernelspec": {
   "display_name": "Python 3 (ipykernel)",
   "language": "python",
   "name": "python3"
  },
  "language_info": {
   "codemirror_mode": {
    "name": "ipython",
    "version": 3
   },
   "file_extension": ".py",
   "mimetype": "text/x-python",
   "name": "python",
   "nbconvert_exporter": "python",
   "pygments_lexer": "ipython3",
   "version": "3.10.5"
  }
 },
 "nbformat": 4,
 "nbformat_minor": 5
}
